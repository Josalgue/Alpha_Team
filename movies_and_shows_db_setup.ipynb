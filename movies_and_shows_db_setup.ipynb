{
 "cells": [
  {
   "cell_type": "code",
   "execution_count": 1,
   "metadata": {},
   "outputs": [],
   "source": [
    "# Import dependencies\n",
    "import pandas as pd\n",
    "from sqlalchemy import create_engine"
   ]
  },
  {
   "cell_type": "code",
   "execution_count": 2,
   "metadata": {},
   "outputs": [],
   "source": [
    "# Extracting the information from the Disney Plus file\n",
    "datafile1 = \"Resources/disney_plus_shows.csv\"\n",
    "datafile2 = \"Resources/IMDb.csv\"\n",
    "datafile3 = \"Resources/Platforms.csv\""
   ]
  },
  {
   "cell_type": "code",
   "execution_count": 3,
   "metadata": {},
   "outputs": [],
   "source": [
    "# Turning first csv into a dataframe\n",
    "disney_df = pd.read_csv(datafile1)"
   ]
  },
  {
   "cell_type": "code",
   "execution_count": 4,
   "metadata": {},
   "outputs": [],
   "source": [
    "# Droping unrequired columns \n",
    "disney_cleaned = disney_df[[\"title\",\"director\",\"country\",\"year\",\"genre\",\"imdb_rating\"]]\n",
    "disney_cleaned = disney_cleaned.rename(columns={\"imdb_rating\":\"rating\"})\n",
    "disney_cleaned ['year'] = disney_cleaned ['year'].str.split('–', n = 0, expand = True)"
   ]
  },
  {
   "cell_type": "code",
   "execution_count": 5,
   "metadata": {},
   "outputs": [
    {
     "name": "stderr",
     "output_type": "stream",
     "text": [
      "c:\\users\\jonat\\desktop\\bootcamp\\bootcamp\\lib\\site-packages\\IPython\\core\\interactiveshell.py:3145: DtypeWarning: Columns (3) have mixed types.Specify dtype option on import or set low_memory=False.\n",
      "  has_raised = await self.run_ast_nodes(code_ast.body, cell_name,\n"
     ]
    }
   ],
   "source": [
    "# Turning second csv into a dataframe\n",
    "imdb_df= pd.read_csv(datafile2)"
   ]
  },
  {
   "cell_type": "code",
   "execution_count": 6,
   "metadata": {},
   "outputs": [],
   "source": [
    "# Droping unrequired columns \n",
    "imdb_cleaned = imdb_df[[\"title\",\"director\",\"country\",\"year\",\"genre\",\"avg_vote\"]]\n",
    "imdb_cleaned = imdb_cleaned.rename(columns={\"avg_vote\":\"rating\"})"
   ]
  },
  {
   "cell_type": "code",
   "execution_count": 7,
   "metadata": {},
   "outputs": [],
   "source": [
    "# Turning third csv into a dataframe\n",
    "platforms_df= pd.read_csv(datafile3)"
   ]
  },
  {
   "cell_type": "code",
   "execution_count": 8,
   "metadata": {},
   "outputs": [],
   "source": [
    "# Droping unrequired columns \n",
    "platforms_cleaned = platforms_df[[\"Title\",\"Directors\",\"Country\",\"Year\",\"Genres\",\"IMDb\"]]\n",
    "platforms_cleaned=platforms_cleaned.rename(columns={\"Title\":\"title\",\"Directors\":\"director\",\n",
    "                                                    \"Country\":\"country\",\n",
    "                                                    \"Year\":\"year\",\n",
    "                                                    \"Genres\":\"genre\",\n",
    "                                                    \"IMDb\":\"rating\"})"
   ]
  },
  {
   "cell_type": "code",
   "execution_count": 9,
   "metadata": {},
   "outputs": [],
   "source": [
    "# Append three df's to create a DB\n",
    "consolidated_df = disney_cleaned.append([imdb_cleaned, platforms_cleaned])"
   ]
  },
  {
   "cell_type": "code",
   "execution_count": 10,
   "metadata": {},
   "outputs": [
    {
     "data": {
      "text/html": [
       "<div>\n",
       "<style scoped>\n",
       "    .dataframe tbody tr th:only-of-type {\n",
       "        vertical-align: middle;\n",
       "    }\n",
       "\n",
       "    .dataframe tbody tr th {\n",
       "        vertical-align: top;\n",
       "    }\n",
       "\n",
       "    .dataframe thead th {\n",
       "        text-align: right;\n",
       "    }\n",
       "</style>\n",
       "<table border=\"1\" class=\"dataframe\">\n",
       "  <thead>\n",
       "    <tr style=\"text-align: right;\">\n",
       "      <th></th>\n",
       "      <th>title</th>\n",
       "      <th>director</th>\n",
       "      <th>country</th>\n",
       "      <th>year</th>\n",
       "      <th>genre</th>\n",
       "      <th>rating</th>\n",
       "    </tr>\n",
       "  </thead>\n",
       "  <tbody>\n",
       "    <tr>\n",
       "      <th>0</th>\n",
       "      <td>10 Things I Hate About You</td>\n",
       "      <td>Gil Junger</td>\n",
       "      <td>USA</td>\n",
       "      <td>1999</td>\n",
       "      <td>Comedy, Drama, Romance</td>\n",
       "      <td>7.3</td>\n",
       "    </tr>\n",
       "    <tr>\n",
       "      <th>2</th>\n",
       "      <td>101 Dalmatians</td>\n",
       "      <td>Stephen Herek</td>\n",
       "      <td>USA, UK</td>\n",
       "      <td>1996</td>\n",
       "      <td>Adventure, Comedy, Crime, Family</td>\n",
       "      <td>5.7</td>\n",
       "    </tr>\n",
       "    <tr>\n",
       "      <th>3</th>\n",
       "      <td>101 Dalmatians 2: Patch's London Adventure</td>\n",
       "      <td>Jim Kammerud, Brian Smith</td>\n",
       "      <td>USA</td>\n",
       "      <td>2002</td>\n",
       "      <td>Animation, Adventure, Comedy, Family, Musical</td>\n",
       "      <td>5.8</td>\n",
       "    </tr>\n",
       "    <tr>\n",
       "      <th>4</th>\n",
       "      <td>102 Dalmatians</td>\n",
       "      <td>Kevin Lima</td>\n",
       "      <td>USA, UK</td>\n",
       "      <td>2000</td>\n",
       "      <td>Adventure, Comedy, Family</td>\n",
       "      <td>4.9</td>\n",
       "    </tr>\n",
       "    <tr>\n",
       "      <th>5</th>\n",
       "      <td>12 Dates of Christmas</td>\n",
       "      <td>James Hayman</td>\n",
       "      <td>USA</td>\n",
       "      <td>2011</td>\n",
       "      <td>Comedy, Fantasy, Romance</td>\n",
       "      <td>6.3</td>\n",
       "    </tr>\n",
       "  </tbody>\n",
       "</table>\n",
       "</div>"
      ],
      "text/plain": [
       "                                        title                   director  \\\n",
       "0                  10 Things I Hate About You                 Gil Junger   \n",
       "2                              101 Dalmatians              Stephen Herek   \n",
       "3  101 Dalmatians 2: Patch's London Adventure  Jim Kammerud, Brian Smith   \n",
       "4                              102 Dalmatians                 Kevin Lima   \n",
       "5                       12 Dates of Christmas               James Hayman   \n",
       "\n",
       "   country  year                                          genre  rating  \n",
       "0      USA  1999                         Comedy, Drama, Romance     7.3  \n",
       "2  USA, UK  1996               Adventure, Comedy, Crime, Family     5.7  \n",
       "3      USA  2002  Animation, Adventure, Comedy, Family, Musical     5.8  \n",
       "4  USA, UK  2000                      Adventure, Comedy, Family     4.9  \n",
       "5      USA  2011                       Comedy, Fantasy, Romance     6.3  "
      ]
     },
     "execution_count": 10,
     "metadata": {},
     "output_type": "execute_result"
    }
   ],
   "source": [
    "# Clean DB's headers and remove duplicates\n",
    "movie_sn = consolidated_df.loc[:, [\"title\", \"director\", \"country\", \"year\", \"genre\",\"rating\"]]\n",
    "movie_sn = movie_sn.drop_duplicates()\n",
    "movie_sn.dropna(inplace=True)\n",
    "movie_sn.head(5)"
   ]
  },
  {
   "cell_type": "code",
   "execution_count": 11,
   "metadata": {},
   "outputs": [],
   "source": [
    "# Create Directors, Country, Release Year and IMDb score Tables\n",
    "director_summary = movie_sn[[\"director\", \"title\"]]\n",
    "country_summary = movie_sn[[\"country\", \"title\"]]\n",
    "release_summary = movie_sn[[\"year\", \"title\"]]\n",
    "imdb_summary = movie_sn[[\"rating\", \"title\"]]"
   ]
  },
  {
   "cell_type": "code",
   "execution_count": 12,
   "metadata": {},
   "outputs": [],
   "source": [
    "# Create connection and engine\n",
    "rds_connection_string = \"postgres:Star18Dust@localhost:5432/movies_db\"\n",
    "engine = create_engine(f'postgresql://{rds_connection_string}')"
   ]
  },
  {
   "cell_type": "code",
   "execution_count": 17,
   "metadata": {},
   "outputs": [],
   "source": [
    "# Export to SQL and CSV\n",
    "\n",
    "# director summary\n",
    "director_summary.to_sql(name='director_summary', con=engine, if_exists='append', index=False)\n",
    "director_summary.to_csv(\"director_summary\", index=True)\n",
    "\n",
    "# country summary\n",
    "country_summary.to_sql(name='country_summary', con=engine, if_exists='append', index=False)\n",
    "country_summary.to_csv(\"country_summary\", index=True)\n",
    "\n",
    "# release summary\n",
    "release_summary.to_sql(name='release_summary', con=engine, if_exists='append', index=False)\n",
    "release_summary.to_csv(\"release_summary\", index=True)\n",
    "\n",
    "# imdb summary\n",
    "imdb_summary.to_sql(name='imdb_summary', con=engine, if_exists='append', index=False)\n",
    "imdb_summary.to_csv(\"imdb_summary\", index=True)"
   ]
  },
  {
   "cell_type": "code",
   "execution_count": 16,
   "metadata": {},
   "outputs": [
    {
     "data": {
      "text/plain": [
       "[]"
      ]
     },
     "execution_count": 16,
     "metadata": {},
     "output_type": "execute_result"
    }
   ],
   "source": [
    "engine.table_names()"
   ]
  }
 ],
 "metadata": {
  "kernelspec": {
   "display_name": "Python 3",
   "language": "python",
   "name": "python3"
  },
  "language_info": {
   "codemirror_mode": {
    "name": "ipython",
    "version": 3
   },
   "file_extension": ".py",
   "mimetype": "text/x-python",
   "name": "python",
   "nbconvert_exporter": "python",
   "pygments_lexer": "ipython3",
   "version": "3.8.3"
  }
 },
 "nbformat": 4,
 "nbformat_minor": 4
}
